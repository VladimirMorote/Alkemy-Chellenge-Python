{
  "nbformat": 4,
  "nbformat_minor": 0,
  "metadata": {
    "colab": {
      "name": "Untitled0.ipynb",
      "provenance": [],
      "authorship_tag": "ABX9TyN+e9cPdq0/Fo6Z+sn6fd9l",
      "include_colab_link": true
    },
    "kernelspec": {
      "name": "python3",
      "display_name": "Python 3"
    },
    "language_info": {
      "name": "python"
    }
  },
  "cells": [
    {
      "cell_type": "markdown",
      "metadata": {
        "id": "view-in-github",
        "colab_type": "text"
      },
      "source": [
        "<a href=\"https://colab.research.google.com/github/VladimirMorote/Alkemy-Chellenge-Python/blob/main/Untitled0.ipynb\" target=\"_parent\"><img src=\"https://colab.research.google.com/assets/colab-badge.svg\" alt=\"Open In Colab\"/></a>"
      ]
    },
    {
      "cell_type": "markdown",
      "source": [
        "# Pandas Exercises\n",
        "\n",
        "## 1"
      ],
      "metadata": {
        "id": "BF9-qTRr01ub"
      }
    },
    {
      "cell_type": "code",
      "execution_count": null,
      "metadata": {
        "colab": {
          "base_uri": "https://localhost:8080/"
        },
        "id": "oBbijQtAQyrq",
        "outputId": "2fbb236d-cc37-46c4-a40a-666031da161b"
      },
      "outputs": [
        {
          "output_type": "stream",
          "name": "stdout",
          "text": [
            "     Name  Age    Address Qualification\n",
            "0     jai   27      Delhi           Msc\n",
            "1  princi   24     Kanpur            MA\n",
            "2  gaurav   22  Allahabad           MCA\n",
            "3    anuj   32    Kannauj           Phd\n"
          ]
        }
      ],
      "source": [
        "# Import pandas package \n",
        "import pandas as pd \n",
        "   \n",
        "# Define a dictionary containing employee data \n",
        "data = {'Name':['Jai', 'Princi', 'Gaurav', 'Anuj'], \n",
        "        'Age':[27, 24, 22, 32], \n",
        "        'Address':['Delhi', 'Kanpur', 'Allahabad', 'Kannauj'], \n",
        "        'Qualification':['Msc', 'MA', 'MCA', 'Phd']} \n",
        "   \n",
        "# Convert the dictionary into DataFrame  \n",
        "df = pd.DataFrame(data) \n",
        "   \n",
        "# converting and overwriting values in column \n",
        "df[\"Name\"]= df[\"Name\"].str.lower()\n",
        " \n",
        "print(df)\n",
        "\n",
        "\n"
      ]
    },
    {
      "cell_type": "markdown",
      "source": [
        ""
      ],
      "metadata": {
        "id": "6Vcm8XP755m5"
      }
    },
    {
      "cell_type": "markdown",
      "source": [
        "# 2\n",
        "\n"
      ],
      "metadata": {
        "id": "3h0e83335-PJ"
      }
    },
    {
      "cell_type": "code",
      "source": [
        ""
      ],
      "metadata": {
        "id": "NY5n-Tig6aT4"
      },
      "execution_count": null,
      "outputs": []
    },
    {
      "cell_type": "code",
      "execution_count": null,
      "metadata": {
        "colab": {
          "base_uri": "https://localhost:8080/"
        },
        "outputId": "2fbb236d-cc37-46c4-a40a-666031da161b",
        "id": "BX0JBPh49o1e"
      },
      "outputs": [
        {
          "output_type": "stream",
          "name": "stdout",
          "text": [
            "     Name  Age    Address Qualification\n",
            "0     jai   27      Delhi           Msc\n",
            "1  princi   24     Kanpur            MA\n",
            "2  gaurav   22  Allahabad           MCA\n",
            "3    anuj   32    Kannauj           Phd\n"
          ]
        }
      ],
      "source": [
        "# Import pandas package \n",
        "import pandas as pd \n",
        "   \n",
        "# Define a dictionary containing employee data \n",
        "data = {'Name':['Jai', 'Princi', 'Gaurav', 'Anuj'], \n",
        "        'Age':[27, 24, 22, 32], \n",
        "        'Address':['Delhi', 'Kanpur', 'Allahabad', 'Kannauj'], \n",
        "        'Qualification':['Msc', 'MA', 'MCA', 'Phd']} \n",
        "   \n",
        "# Convert the dictionary into DataFrame  \n",
        "df = pd.DataFrame(data) \n",
        "   \n",
        "# converting and overwriting values in column \n",
        "df[\"Name\"]= df[\"Name\"].str.lower()\n",
        " \n",
        "print(df)\n",
        "\n",
        "\n"
      ]
    },
    {
      "cell_type": "markdown",
      "source": [
        "# 3"
      ],
      "metadata": {
        "id": "EiMLNGAo9usI"
      }
    },
    {
      "cell_type": "code",
      "source": [
        "\n",
        "#Organizar los archivos en rutas siguiendo la siguiente estructura:\n",
        "#“categoría\\año-mes\\categoria-dia-mes-año.csv”\n",
        "#Por ejemplo: “museos\\2021-noviembre\\museos-03-11-2021”\n",
        "#Si el archivo existe debe reemplazarse. La fecha de la nomenclatura\n",
        "#es la fecha de descarga.\n",
        "\n",
        "from calendar import month\n",
        "import requests\n",
        "\n",
        "import datetime\n",
        "import csv\n",
        "import os\n",
        "\n",
        "import sqlalchemy\n",
        "from sqlalchemy import create_engine\n",
        "from sqlalchemy.ext.declarative import declarative_base\n",
        "import pandas as pd\n",
        "\n",
        "\n",
        "def get_data_to_csv(category, url, print_data=False):\n",
        "    \n",
        "    #get data from URL, add category to 'categoria' key\n",
        "    #and save to csv in local directory: ./category/YYYY-MM/category-DD-MM-YYYY.csv\n",
        "    #datetime for save csv: now()\n",
        "    #save all keys in columns\n",
        "    \n",
        "    data = requests.get(url).json()\n",
        "    for item in data['result']['records']:\n",
        "        item['categoria'] = category\n",
        "        if print_data:\n",
        "            for key, value in item.items():\n",
        "                print(key, ':', value)\n",
        "            print('\\n')\n",
        "\n",
        "    now = datetime.datetime.now()\n",
        "\n",
        "    # create directory if not exists\n",
        "    if not os.path.exists(category+'/'+str(now.year)+'-'+str(now.month)):\n",
        "        os.makedirs(category+'/'+str(now.year)+'-'+str(now.month))\n",
        "        writeMode = 'a'\n",
        "    else:\n",
        "        writeMode = 'w'\n",
        "\n",
        "\n",
        "    with open(category+'/'+str(now.year)+'-'+str(now.month)+'/'+category+'-'+str(now.day)+'-'\n",
        "            +str(now.month)+'-'+str(now.year)+'.csv', writeMode, encoding='utf-8') as csvfile:\n",
        "        columns = list(data['result']['records'][0].keys())\n",
        "        writer = csv.DictWriter(csvfile, fieldnames=columns)\n",
        "        writer.writeheader()\n",
        "        for item in data['result']['records']:\n",
        "            writer.writerow(item)\n",
        "\n",
        "def csv_to_dataframe(category, day, month, year, show_head=False, show_info=False):\n",
        "    \"\"\"\n",
        "    read csv file and return dataframe\n",
        "    \"\"\"\n",
        "    df = pd.read_csv(category+'/'+str(year)+'-'+str(month)+'/'+category+'-'+str(day)+'-'\n",
        "            +str(month)+'-'+str(year)+'.csv')\n",
        "\n",
        "    if show_head:\n",
        "        print('First data of: '+category+'-'+str(day)+'-'+str(month)+'-'+str(year)+'.csv'+'\\n')\n",
        "        print(df.head())\n",
        "        print('\\n')\n",
        "\n",
        "    if show_info:\n",
        "        print('Columns of: '+category+'-'+str(day)+'-'+str(month)+'-'+str(year)+'.csv'+'\\n')\n",
        "        print(df.info())\n",
        "        print('\\n')\n",
        "\n",
        "    return df\n",
        "    \n",
        "    #read csv from local directory: ./category/YYYY-MM/category-DD-MM-YYYY.csv\n",
        "    #and return pandas dataframe\n",
        "    \n",
        "\n",
        "def create_table(df, category, engine, show_query=False):\n",
        "    \"\"\"\n",
        "    create table in database\n",
        "    \"\"\"\n",
        "    df.to_sql(category, engine, if_exists='replace', index=False)\n",
        "\n",
        "    if show_query:\n",
        "        print(category+' table created, show query of 3 rows:')\n",
        "        for query in engine.execute('SELECT * FROM '+category+' LIMIT 3'):\n",
        "            print(query)\n",
        "        print('\\n')\n",
        "\n",
        "if __name__ == '__main__':\n",
        "    ## save data from url to csv:\n",
        "\n",
        "    # museos: https://datos.gob.ar/dataset/cultura-mapa-cultural-espacios-culturales/archivo/cultura_4207def0-2ff7-41d5-9095-d42ae8207a5d\n",
        "    get_data_to_csv('museos', \n",
        "        'https://datos.gob.ar/api/3/action/datastore_search?resource_id=cultura_4207def0-2ff7-41d5-9095-d42ae8207a5d')\n",
        "    # salas_cine: https://datos.gob.ar/dataset/cultura-mapa-cultural-espacios-culturales/archivo/cultura_392ce1a8-ef11-4776-b280-6f1c7fae16ae\n",
        "    get_data_to_csv(\"salas_cine\", \n",
        "    'https://datos.gob.ar/api/3/action/datastore_search?resource_id=cultura_392ce1a8-ef11-4776-b280-6f1c7fae16ae')\n",
        "\n",
        "    # bibliotecas: https://datos.gob.ar/dataset/cultura-mapa-cultural-espacios-culturales/archivo/cultura_01c6c048-dbeb-44e0-8efa-6944f73715d7\n",
        "    get_data_to_csv('bibliotecas','https://datos.gob.ar/api/3/action/datastore_search?resource_id=cultura_01c6c048-dbeb-44e0-8efa-6944f73715d7')\n",
        "\n",
        "    ## read csv to dataframe:\n",
        "    day = datetime.datetime.now().day\n",
        "    month = datetime.datetime.now().month\n",
        "    year = datetime.datetime.now().year\n",
        "    df_museos = csv_to_dataframe('museos', day, month, year, show_head=True, show_info=True)\n",
        "    df_salas_cine = csv_to_dataframe('salas_cine', day, month, year, show_head=True, show_info=True)\n",
        "    df_bibliotecas = csv_to_dataframe('bibliotecas', day, month, year, show_head=True, show_info=True)"
      ],
      "metadata": {
        "colab": {
          "base_uri": "https://localhost:8080/"
        },
        "id": "R_GmtBZwEEzP",
        "outputId": "71a5498f-0ae7-4977-8533-31edb6761e94"
      },
      "execution_count": null,
      "outputs": [
        {
          "output_type": "stream",
          "name": "stdout",
          "text": [
            "First data of: museos-6-2-2022.csv\n",
            "\n",
            "     latitud                              direccion  ...   longitud categoria\n",
            "0 -34.748200                            Medrano 165  ... -58.394600    museos\n",
            "1 -34.662110                Sarmiento 101, 1 º Piso  ... -58.363270    museos\n",
            "2 -34.719200                          Rivadavia 498  ... -58.251700    museos\n",
            "3 -34.712300                         25 de Mayo 198  ... -58.284900    museos\n",
            "4 -34.712406  25 de Mayo 218 Este / Lavalle y Brown  ... -58.285194    museos\n",
            "\n",
            "[5 rows x 21 columns]\n",
            "\n",
            "\n",
            "Columns of: museos-6-2-2022.csv\n",
            "\n",
            "<class 'pandas.core.frame.DataFrame'>\n",
            "RangeIndex: 100 entries, 0 to 99\n",
            "Data columns (total 21 columns):\n",
            " #   Column                      Non-Null Count  Dtype  \n",
            "---  ------                      --------------  -----  \n",
            " 0   latitud                     100 non-null    float64\n",
            " 1   direccion                   100 non-null    object \n",
            " 2   anio_de_inauguracion        82 non-null     float64\n",
            " 3   provincia                   100 non-null    object \n",
            " 4   web                         6 non-null      object \n",
            " 5   espacio_cultural_id         100 non-null    int64  \n",
            " 6   fuente                      100 non-null    object \n",
            " 7   observaciones               16 non-null     object \n",
            " 8   provincia_id                100 non-null    int64  \n",
            " 9   descripcion_de_patrimonio   99 non-null     object \n",
            " 10  localidad_id                100 non-null    int64  \n",
            " 11  codigo_postal               100 non-null    object \n",
            " 12  juridisccion                97 non-null     object \n",
            " 13  anio_de_creacion            75 non-null     float64\n",
            " 14  mail                        25 non-null     object \n",
            " 15  localidad                   100 non-null    object \n",
            " 16  nombre                      100 non-null    object \n",
            " 17  telefono                    96 non-null     float64\n",
            " 18  codigo_indicativo_telefono  96 non-null     float64\n",
            " 19  longitud                    100 non-null    float64\n",
            " 20  categoria                   100 non-null    object \n",
            "dtypes: float64(6), int64(3), object(12)\n",
            "memory usage: 16.5+ KB\n",
            "None\n",
            "\n",
            "\n",
            "First data of: salas_cine-6-2-2022.csv\n",
            "\n",
            "                                                 Web  ...   categoria\n",
            "0                    http://www.cinemacenter.com.ar/  ...  salas_cine\n",
            "1                                                s/d  ...  salas_cine\n",
            "2       http://resistencia.loscinesdelacosta.com.ar/  ...  salas_cine\n",
            "3  http://www.culturachubut.gob.ar/…/convo-evita-...  ...  salas_cine\n",
            "4   https://www.facebook.com/CineFantasioBellaVista/  ...  salas_cine\n",
            "\n",
            "[5 rows x 27 columns]\n",
            "\n",
            "\n",
            "Columns of: salas_cine-6-2-2022.csv\n",
            "\n",
            "<class 'pandas.core.frame.DataFrame'>\n",
            "RangeIndex: 100 entries, 0 to 99\n",
            "Data columns (total 27 columns):\n",
            " #   Column                 Non-Null Count  Dtype  \n",
            "---  ------                 --------------  -----  \n",
            " 0   Web                    100 non-null    object \n",
            " 1   tipo_gestion           100 non-null    object \n",
            " 2   Piso                   100 non-null    object \n",
            " 3   Provincia              100 non-null    object \n",
            " 4   TipoLatitudLongitud    100 non-null    object \n",
            " 5   Nombre                 100 non-null    object \n",
            " 6   Mail                   100 non-null    object \n",
            " 7   Cod_Loc                100 non-null    int64  \n",
            " 8   Observaciones          0 non-null      float64\n",
            " 9   Departamento           100 non-null    object \n",
            " 10  Categoría              100 non-null    object \n",
            " 11  Longitud               100 non-null    float64\n",
            " 12  Butacas                100 non-null    int64  \n",
            " 13  espacio_INCAA          14 non-null     object \n",
            " 14  Dirección              100 non-null    object \n",
            " 15  Localidad              100 non-null    object \n",
            " 16  CP                     100 non-null    int64  \n",
            " 17  Información adicional  0 non-null      float64\n",
            " 18  Latitud                100 non-null    float64\n",
            " 19  Teléfono               100 non-null    object \n",
            " 20  Fuente                 100 non-null    object \n",
            " 21  año_actualizacion      100 non-null    int64  \n",
            " 22  IdProvincia            100 non-null    int64  \n",
            " 23  cod_area               100 non-null    object \n",
            " 24  Pantallas              100 non-null    int64  \n",
            " 25  IdDepartamento         100 non-null    int64  \n",
            " 26  categoria              100 non-null    object \n",
            "dtypes: float64(4), int64(7), object(16)\n",
            "memory usage: 21.2+ KB\n",
            "None\n",
            "\n",
            "\n",
            "First data of: bibliotecas-6-2-2022.csv\n",
            "\n",
            "   Web  Piso  ... IdDepartamento    categoria\n",
            "0  NaN   NaN  ...          70049  bibliotecas\n",
            "1  NaN   NaN  ...           2000  bibliotecas\n",
            "2  NaN   NaN  ...           2000  bibliotecas\n",
            "3  NaN   NaN  ...           2000  bibliotecas\n",
            "4  NaN   NaN  ...           2000  bibliotecas\n",
            "\n",
            "[5 rows x 26 columns]\n",
            "\n",
            "\n",
            "Columns of: bibliotecas-6-2-2022.csv\n",
            "\n",
            "<class 'pandas.core.frame.DataFrame'>\n",
            "RangeIndex: 100 entries, 0 to 99\n",
            "Data columns (total 26 columns):\n",
            " #   Column                 Non-Null Count  Dtype  \n",
            "---  ------                 --------------  -----  \n",
            " 0   Web                    0 non-null      float64\n",
            " 1   Piso                   0 non-null      float64\n",
            " 2   Provincia              100 non-null    object \n",
            " 3   Año_actualizacion      100 non-null    int64  \n",
            " 4   Cod_tel                100 non-null    object \n",
            " 5   TipoLatitudLongitud    100 non-null    object \n",
            " 6   Subcategoria           0 non-null      float64\n",
            " 7   Observacion            0 non-null      float64\n",
            " 8   Mail                   100 non-null    object \n",
            " 9   Cod_Loc                100 non-null    int64  \n",
            " 10  Tipo_gestion           100 non-null    object \n",
            " 11  Departamento           100 non-null    object \n",
            " 12  año_inicio             100 non-null    int64  \n",
            " 13  Categoría              100 non-null    object \n",
            " 14  Longitud               100 non-null    float64\n",
            " 15  Localidad              100 non-null    object \n",
            " 16  CP                     100 non-null    object \n",
            " 17  Información adicional  0 non-null      float64\n",
            " 18  Latitud                100 non-null    float64\n",
            " 19  Teléfono               100 non-null    object \n",
            " 20  Fuente                 100 non-null    object \n",
            " 21  IdProvincia            100 non-null    int64  \n",
            " 22  Nombre                 100 non-null    object \n",
            " 23  Domicilio              100 non-null    object \n",
            " 24  IdDepartamento         100 non-null    int64  \n",
            " 25  categoria              100 non-null    object \n",
            "dtypes: float64(7), int64(5), object(14)\n",
            "memory usage: 20.4+ KB\n",
            "None\n",
            "\n",
            "\n"
          ]
        }
      ]
    }
  ]
}